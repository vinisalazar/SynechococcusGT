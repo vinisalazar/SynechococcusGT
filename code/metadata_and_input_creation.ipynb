{
 "cells": [
  {
   "cell_type": "markdown",
   "metadata": {},
   "source": [
    "### Concatenating NCBI tables"
   ]
  },
  {
   "cell_type": "code",
   "execution_count": 31,
   "metadata": {},
   "outputs": [],
   "source": [
    "import pandas as pd\n",
    "from os import path\n",
    "from shutil import copy\n",
    "from glob import glob\n",
    "import abacat as ab\n",
    "pd.set_option('display.max_rows', 200)"
   ]
  },
  {
   "cell_type": "code",
   "execution_count": 32,
   "metadata": {},
   "outputs": [],
   "source": [
    "# Reading\n",
    "syn = pd.read_csv(\"../data/ncbi/synechoccus_ncbi_metadata_27-05_dedup.csv\")\n",
    "cya = pd.read_csv(\"../data/ncbi/cyanos_gtdb_ncbi_metadata_07-05_dedup.csv\")\n",
    "\n",
    "# Removing intersection of rows from cya\n",
    "cya = cya[~cya['assembly_accession'].isin(syn['assembly_accession'])]\n",
    "\n",
    "# Adding columns to identify data sets: Synechococcus or GTDB cyanobacteria\n",
    "syn['is_synecho'] = True\n",
    "cya['is_synecho'] = False\n",
    "\n",
    "# Concatenate, format and save\n",
    "df = pd.concat((syn, cya))\n",
    "df['local_fna'] = df['filename'].apply(\n",
    "    lambda s: f\"../data/ncbi/processing/genomic_fna/{s}_genomic.fna\")\n",
    "df.to_csv(\"../data/ncbi/concatenated_ncbi_table.csv\")\n",
    "\n",
    "# Add aditional columns\n",
    "df['proteins_path'] = (\"../data/ncbi/processing/prodigal_proteins/\" +\n",
    "                    df['filename'] + \"_genomic_prodigal_proteins.faa\")\n",
    "df['genes_path'] = (\"../data/ncbi/processing/prodigal_genes/\" +\n",
    "                       df['filename'] + \"_genomic_prodigal_genes.fna\")"
   ]
  },
  {
   "cell_type": "code",
   "execution_count": 33,
   "metadata": {},
   "outputs": [],
   "source": [
    "# We will remove GCA_003228185.1 due to being described as a mixed culture\n",
    "df = df[df['assembly_accession'] != 'GCA_003228185.1']"
   ]
  },
  {
   "cell_type": "code",
   "execution_count": 34,
   "metadata": {},
   "outputs": [],
   "source": [
    "# Create CheckM input batchfile\n",
    "copier = lambda x,y: [copy(i,y) for i in x]\n",
    "# copier(df[df[\"is_synecho\"]][\"local_fna\"], f\"../data/checkm/input/\")\n",
    "\n",
    "# Should try this:\n",
    "# map(lambda x,y: [copy(i,y) for i in x],\n",
    "#    (df[df[\"is_synecho\"]][\"local_fna\"], f\"../data/checkm/input/\"))"
   ]
  },
  {
   "cell_type": "code",
   "execution_count": 35,
   "metadata": {},
   "outputs": [],
   "source": [
    "# Join completeness and contamination\n",
    "\n",
    "# GTDB genomes\n",
    "gtdb_metadata = \"/home/vini/data/db/gtdb/bac120_metadata.tsv\"\n",
    "gtdb = pd.read_csv(gtdb_metadata, sep=\"\\t\")\n",
    "gtdb.rename(columns={\"ncbi_biosample\": \"biosample\"}, inplace=True)\n",
    "df = df.merge(gtdb[['biosample', 'checkm_completeness', 'checkm_contamination']],\n",
    "         on='biosample', how='left')\n",
    "\n",
    "# CheckM data\n",
    "checkm = pd.read_csv(\"../data/checkm/checkm_tax_wf.tsv\", sep=\"\\t\")\n",
    "checkm.rename(columns={\"Completeness\": \"checkm_completeness\",\n",
    "                       \"Contamination\": \"checkm_contamination\"}, inplace=True)\n",
    "checkm['filename'] = checkm[\"Bin Id\"].str.split(\"_genomic\", expand=True).iloc[:, 0]\n",
    "df = df.merge(checkm[['filename', 'checkm_completeness', 'checkm_contamination']],\n",
    "              on='filename', how='left')\n",
    "df['checkm_completeness'] = df['checkm_completeness_y'].fillna(\n",
    "    df['checkm_completeness_x'])\n",
    "df['checkm_contamination'] = df['checkm_contamination_y'].fillna(\n",
    "    df['checkm_contamination_x'])\n",
    "df = df.drop(['checkm_completeness_x', 'checkm_completeness_y',\n",
    "              'checkm_contamination_x', 'checkm_contamination_y'], axis=1)"
   ]
  },
  {
   "cell_type": "code",
   "execution_count": 11,
   "metadata": {},
   "outputs": [],
   "source": [
    "# Filter genomes with < 50% completeness and > 5% contamination\n",
    "df['quality_filter'] = df.apply(lambda row: True if\n",
    "         row['checkm_completeness'] > 50 and\n",
    "         row['checkm_contamination'] < 10 else\n",
    "        False, axis=1)\n",
    "\n",
    "# Create GTDB batchfile for Synechococcus genomes\n",
    "# df[df['is_synecho']][['local_fna', 'assembly_accession']].to_csv(\n",
    "#     '../data/gtdb/batchfile.tsv', sep='\\t', index=False, header=None)"
   ]
  },
  {
   "cell_type": "code",
   "execution_count": 12,
   "metadata": {},
   "outputs": [],
   "source": [
    "# Join GTDB taxonomy for GTDB cyanobacteria\n",
    "gtdb_tax = gtdb[\"gtdb_taxonomy\"].str.split(\";\", expand=True)\n",
    "gtdb_tax.columns = (\"gtdb_\" + i for i in \"domain phylum class order family genus species\".split())\n",
    "gtdb_tax = gtdb_tax.applymap(lambda s: s[3:] if s is not None else s)\n",
    "gtdb[gtdb_tax.columns] = gtdb_tax\n",
    "df = df.merge(gtdb[['biosample'] + list(gtdb_tax.columns)], on='biosample', how='left')\n",
    "\n",
    "# Join GTDB taxonomy for NCBI Synechococcus genomes\n",
    "synecho_gtdb = pd.read_csv(\"../data/gtdb/output/synechococcus.bac120.summary.tsv\", sep=\"\\t\")\n",
    "gtdb_tax = synecho_gtdb[\"classification\"].str.split(\";\", expand=True)\n",
    "gtdb_tax.columns = (\"gtdb_\" + i for i in \"domain phylum class order family genus species\".split())\n",
    "gtdb_tax = gtdb_tax.applymap(lambda s: s[3:] if isinstance(s, str) else s)\n",
    "synecho_gtdb[gtdb_tax.columns] = gtdb_tax\n",
    "\n",
    "df = df.merge(synecho_gtdb.rename(columns={\"user_genome\": \"assembly_accession\"}), on='assembly_accession', how='left')\n",
    "\n",
    "for i in gtdb_tax.columns:\n",
    "    df[i] = df[i + '_y'].fillna(df[i + '_x'])\n",
    "    df = df.drop([i + \"_x\", i + \"_y\"], axis=1)"
   ]
  },
  {
   "cell_type": "code",
   "execution_count": 13,
   "metadata": {},
   "outputs": [],
   "source": [
    "# Add Abacat to calculate GC and size\n",
    "df['abacat'] = df['local_fna'].apply(lambda s: ab.SequenceFile(s, 'contigs'))\n",
    "df['gc'] = df['abacat'].apply(lambda seq: seq.gc)\n",
    "df['megabases'] = df['abacat'].apply(lambda seq: seq.bps / 10e5)\n",
    "df = df[[i for i in df.columns if i != 'abacat']]\n",
    "df.to_csv(\"../data/misc/metadata_v0.csv\", index=False)"
   ]
  },
  {
   "cell_type": "markdown",
   "metadata": {},
   "source": [
    "### Exported as metadata_v0. Load to add labels."
   ]
  },
  {
   "cell_type": "code",
   "execution_count": 96,
   "metadata": {},
   "outputs": [],
   "source": [
    "# Add labels from existing file\n",
    "df = pd.read_csv(\"../data/misc/metadata_v0.csv\")\n",
    "labels = pd.read_csv(\"../data/misc/labels.tsv\", sep=\"\\t\")\n",
    "labels.columns = (\"filename\", \"label\")\n",
    "labels['filename'] = labels['filename'].str.split(\"_genomic\", expand=True).iloc[:, 0]\n",
    "df = df.merge(labels, on='filename', how='left')"
   ]
  },
  {
   "cell_type": "code",
   "execution_count": 97,
   "metadata": {},
   "outputs": [],
   "source": [
    "# Fill missing labels with GTDB tax\n",
    "def join_gtdb_tax(row):     \n",
    "    return \"_\".join([f\"{i[5]}_\" + str(row[i]) for i in gtdb_tax.columns[2:]])\n",
    "\n",
    "df['label'] = df.apply(lambda row: join_gtdb_tax(row) if row['label'] != row['label'] else row['label'], axis=1)"
   ]
  },
  {
   "cell_type": "code",
   "execution_count": 98,
   "metadata": {},
   "outputs": [],
   "source": [
    "# Format columns\n",
    "def fill_rank(row, rank='genus'):\n",
    "    ranks = {\n",
    "        \"genus\": 0,\n",
    "        \"species\": 1,\n",
    "        \"strain\": 2\n",
    "    }\n",
    "    label = \"\"\n",
    "    if row['is_synecho']:\n",
    "        if ranks[rank] < 2:\n",
    "            label = str(row['label'].split(\"_\")[ranks[rank]])\n",
    "        else:\n",
    "            label = \"_\".join(row['label'].split(\"_\")[2:])\n",
    "        if len(label) > 1:\n",
    "            pass\n",
    "        else:\n",
    "            if ranks[rank] < 2:\n",
    "                label = str(row[f'gtdb_{rank}'])\n",
    "            else:\n",
    "                if row['isolate'] != row['isolate']:\n",
    "                    label = str(row['infraspecific_name'])\n",
    "                else:\n",
    "                    label = str(row['isolate'])\n",
    "    else:\n",
    "        if ranks[rank] == 2:\n",
    "            label = str(row['infraspecific_name'])\n",
    "        else:\n",
    "            label = str(row[f'gtdb_{rank}'])\n",
    "    return label\n",
    "\n",
    "df['new_genus'] = df.apply(lambda row: fill_rank(row, rank='genus'), axis=1)\n",
    "df['new_species'] = df.apply(lambda row: fill_rank(row, rank='species'), axis=1)\n",
    "df['new_strain'] = df.apply(lambda row: fill_rank(row, rank='strain'), axis=1)"
   ]
  },
  {
   "cell_type": "code",
   "execution_count": 99,
   "metadata": {},
   "outputs": [],
   "source": [
    "# Add Limnothrix and Cyanobium as synechos\n",
    "cyanobium = [\n",
    "    \"GFB01\", # not SC\n",
    "    \"NIES-981\", # not SC\n",
    "    \"PCC7001\", # 2 not SC\n",
    "    \"8F6\",\n",
    "    \"UBA5018\", # not SC\n",
    "    \"CCALA_15\", # not SC\n",
    "    \"PCC_6307\", # not SC, Cyanobium gracile (type species)\n",
    "    \"BO_8801\",\n",
    "    \"CACIAM_14\" # not SC\n",
    "]\n",
    "\n",
    "regnicoccus = [\n",
    "    \"WH-5701\" # 3 not SC\n",
    "]\n",
    "\n",
    "inmanicoccus = [\n",
    "    \"RCC307\" # 2 not SC\n",
    "]\n",
    "\n",
    "limnothrix = [ \n",
    "    \"Limnotrichaceae\", # 2 not in synecho\n",
    "    \"Enugrolinea\",\n",
    "    \"Limnothrix\" ]\n",
    "\n",
    "# Remove Synechos with only one genome\n",
    "singletons = [\n",
    "    \"Leptovivax\",\n",
    "    \"Coccusdissimilis\",\n",
    "    \"Neosynechococcus\"\n",
    "]\n",
    "\n",
    "for genus in singletons:\n",
    "    df.loc[df[df['label'].apply(lambda s: any([i in s for i in list_]))].index, \"is_synecho\"] = False\n",
    "\n",
    "for list_, genus in zip((cyanobium, regnicoccus, inmanicoccus, limnothrix),\n",
    "                        (\"Cyanobium\", \"Regnicoccus\", \"Inmanicoccus\", \"Limnothrix\")):\n",
    "    df.loc[df[df['label'].apply(lambda s: any([i in s for i in list_]))].index, \"new_genus\"] = genus\n",
    "    df.loc[df[df['label'].apply(lambda s: any([i in s for i in list_]))].index, \"is_synecho\"] = True"
   ]
  },
  {
   "cell_type": "code",
   "execution_count": 100,
   "metadata": {},
   "outputs": [],
   "source": [
    "missing_labels = pd.read_csv(\"../data/misc/missing_labels.csv\")\n",
    "\n",
    "df = df.merge(missing_labels, on='assembly_accession', how='left')\n",
    "for i in missing_labels.columns[1:]:\n",
    "    df[i] = df[i + '_y'].fillna(df[i + '_x'])\n",
    "    df = df.drop([i + \"_x\", i + \"_y\"], axis=1)"
   ]
  },
  {
   "cell_type": "code",
   "execution_count": 101,
   "metadata": {},
   "outputs": [],
   "source": [
    "# Final edits\n",
    "\n",
    "# Drop duplicates and other classes\n",
    "df = df.query(\"gtdb_class == 'Cyanobacteriia'\")\n",
    "df = df.drop_duplicates(\"assembly_accession\")\n",
    "\n",
    "df['new_genus'] = df['new_genus'].str.replace('Enugrolinea', 'Limnothrix')\n",
    "df['new_genus'] = df['new_genus'].str.replace('Synechococcus-C', 'Synechococcus_C')\n",
    "\n",
    "# Manual edit to Vulcanococcus limneticus\n",
    "ix = df[df['organism_name'].str.contains(\"limneticus\")].index\n",
    "df.loc[ix, 'new_species'] = 'limneticus'\n",
    "df.loc[ix, 'new_strain']  = 'LL'\n",
    "df.loc[ix, 'label'] = df.loc[ix, 'organism_name']\n",
    "df.loc[ix, 'is_synecho'] = True\n",
    "\n",
    "# And to nan labels:\n",
    "df['label'] = df.apply(lambda row: row['organism_name'] if 'nan' in row['label'] else row['label'], axis=1)\n",
    "df['label'] = df['label'].str.replace(\"Magnicoccus\", \"Vulcanococcus\")\n",
    "df['new_genus'] = df['new_genus'].str.replace(\"Magnicoccus\", \"Vulcanococcus\")"
   ]
  },
  {
   "cell_type": "code",
   "execution_count": 102,
   "metadata": {},
   "outputs": [],
   "source": [
    "df.to_csv(\"../data/misc/metadata_v1.csv\", index=False)"
   ]
  },
  {
   "cell_type": "code",
   "execution_count": null,
   "metadata": {},
   "outputs": [],
   "source": []
  },
  {
   "cell_type": "code",
   "execution_count": 103,
   "metadata": {},
   "outputs": [
    {
     "data": {
      "text/plain": [
       "0       ../data/comparem/input/GCA_009919765.1_ASM9919...\n",
       "1       ../data/comparem/input/GCA_011047875.1_ASM1104...\n",
       "2       ../data/comparem/input/GCA_011055065.1_ASM1105...\n",
       "3       ../data/comparem/input/GCA_012269695.1_ASM1226...\n",
       "4       ../data/comparem/input/GCA_012270465.1_ASM1227...\n",
       "                              ...                        \n",
       "691     ../data/comparem/input/GCA_000760375.1_ASM7603...\n",
       "742     ../data/comparem/input/GCA_900088535.1_ASM9000...\n",
       "848     ../data/comparem/input/GCA_002396505.1_ASM2396...\n",
       "1269    ../data/comparem/input/GCA_003249115.1_ASM3249...\n",
       "1271    ../data/comparem/input/GCA_002252705.1_ASM2252...\n",
       "Name: proteins_path, Length: 252, dtype: object"
      ]
     },
     "execution_count": 103,
     "metadata": {},
     "output_type": "execute_result"
    }
   ],
   "source": [
    "# # Create AAI input for Synechococcus - added Cyanobium and Limnothrix\n",
    "dst = \"../data/comparem/input/\"\n",
    "\n",
    "df[(df['is_synecho']) | (df['label'].apply(lambda s:any(i in s for i in [\"SS35\", \"SS2\",\"SS52\",\"CCMP1375\", \"LG\",])))]['proteins_path'].apply(lambda file: copy(file.replace(\"..//ncbi\", \"../data/ncbi/\"), dst))"
   ]
  },
  {
   "cell_type": "code",
   "execution_count": 104,
   "metadata": {},
   "outputs": [],
   "source": [
    "df = pd.read_csv(\"../data/misc/metadata_v1.csv\")\n",
    "\n",
    "# Creating GTT input\n",
    "df = df[df['quality_filter']].drop_duplicates(\"label\")\n",
    "df['protein_filename'] = df['proteins_path'].apply(lambda s: path.basename(s))\n",
    "df['proteins_path'] = df['proteins_path'].str.replace(\"../data\", \"../\")\n",
    "df['gtt_label'] = df['label'] + \" # \" + df['assembly_accession']\n",
    "\n",
    "remove_from_gtt = [\"PCC-7407\", \"Gloeomargarita\", \"kilaueensis\", \"CACIAM-69\", \"RSCC\", \"Gloeocapsa\", \"Prochloraceae\", \"Phormidiaceae_A\"]\n",
    "df = df[~df.index.isin(df[df['gtt_label'].apply(lambda s: any(i for i in remove_from_gtt if i in s))].index)]"
   ]
  },
  {
   "cell_type": "code",
   "execution_count": 105,
   "metadata": {},
   "outputs": [],
   "source": [
    "# Exporting\n",
    "df['proteins_path'].to_csv(\"../data/gtt/1085_input.txt\", index=False, header=False)\n",
    "df[['protein_filename', 'gtt_label']].to_csv(\"../data/gtt/1085_labels.tsv\", sep=\"\\t\", index=False, header=False)\n",
    "df.to_csv(\"../data/metadata.csv\", index=False)"
   ]
  },
  {
   "cell_type": "code",
   "execution_count": null,
   "metadata": {},
   "outputs": [],
   "source": [
    "# Building table 1"
   ]
  },
  {
   "cell_type": "code",
   "execution_count": null,
   "metadata": {},
   "outputs": [],
   "source": [
    "df[df['is_synecho']].shape"
   ]
  },
  {
   "cell_type": "code",
   "execution_count": null,
   "metadata": {},
   "outputs": [],
   "source": [
    "df[df['label'].str.contains(\"mexicanus\")]"
   ]
  },
  {
   "cell_type": "code",
   "execution_count": null,
   "metadata": {},
   "outputs": [],
   "source": [
    "df[df['is_synecho']]['gtdb_order'].value_counts()"
   ]
  },
  {
   "cell_type": "code",
   "execution_count": null,
   "metadata": {},
   "outputs": [],
   "source": [
    "df[df['is_synecho']]['gtdb_family'].value_counts()"
   ]
  },
  {
   "cell_type": "code",
   "execution_count": null,
   "metadata": {},
   "outputs": [],
   "source": [
    "df[df['is_synecho'] & (df['gtdb_family'] != 'Cyanobiaceae') & df['quality_filter']]['new_genus'].value_counts()"
   ]
  },
  {
   "cell_type": "code",
   "execution_count": null,
   "metadata": {},
   "outputs": [],
   "source": [
    "df[df['new_genus'] == 'Synechococcus']"
   ]
  },
  {
   "cell_type": "code",
   "execution_count": null,
   "metadata": {},
   "outputs": [],
   "source": [
    "df[df['is_synecho'] & (df['gtdb_family'] == 'Cyanobiaceae') & df['quality_filter']]['new_genus'].value_counts()"
   ]
  },
  {
   "cell_type": "code",
   "execution_count": null,
   "metadata": {},
   "outputs": [],
   "source": [
    "df[df['is_synecho']]['gtdb_order'].value_counts()"
   ]
  },
  {
   "cell_type": "code",
   "execution_count": null,
   "metadata": {},
   "outputs": [],
   "source": [
    "df[df['is_synecho'] & (df['gtdb_order'] == 'Pseudanabaenales')]['gtdb_family']"
   ]
  },
  {
   "cell_type": "code",
   "execution_count": null,
   "metadata": {},
   "outputs": [],
   "source": [
    "df[~df['is_synecho'] & (df['gtdb_order'] == 'Synechococcales') & (df[\"gtdb_genus\"] != \"Prochlorothrix\")]"
   ]
  },
  {
   "cell_type": "code",
   "execution_count": null,
   "metadata": {},
   "outputs": [],
   "source": [
    "df.query('gtdb_family == \"Neosynechococcaceae\"')"
   ]
  },
  {
   "cell_type": "code",
   "execution_count": null,
   "metadata": {},
   "outputs": [],
   "source": [
    "df[df['gtdb_family'] == 'Thermosynechococcaceae']"
   ]
  },
  {
   "cell_type": "code",
   "execution_count": null,
   "metadata": {},
   "outputs": [],
   "source": [
    "df[df['is_synecho'] & (df['gtdb_order'] == \"PCC-7336\")][\"gtdb_family\"]"
   ]
  },
  {
   "cell_type": "code",
   "execution_count": null,
   "metadata": {},
   "outputs": [],
   "source": [
    "df[df['label'].str.contains(\"Stenotopis\")]"
   ]
  },
  {
   "cell_type": "code",
   "execution_count": null,
   "metadata": {},
   "outputs": [],
   "source": [
    "df[df['gtdb_family'] == 'Limnotrichaceae'][['label', 'seq_rel_date']]"
   ]
  },
  {
   "cell_type": "markdown",
   "metadata": {},
   "source": [
    "### Create AAI inputs at family level"
   ]
  },
  {
   "cell_type": "code",
   "execution_count": null,
   "metadata": {},
   "outputs": [],
   "source": [
    "# # Create AAI input for Synechococcus - added Cyanobium and Limnothrix\n",
    "dst = \"../data/comparem/input/\"\n",
    "\n",
    "df['proteins_path'] = df['proteins_path'].str.replace(\"..//ncbi\", \"../data/ncbi/\")\n",
    "\n",
    "subsets = dict()\n",
    "\n",
    "# Cyanobiaceae\n",
    "subsets['cyanobiaceae'] = df[(df['gtdb_family'] == 'Cyanobiaceae') & df['is_synecho'] | df['label'].apply(lambda s:\n",
    "                                                                                any(i in s for i in [\"SS35\", \n",
    "                                                                                                     \"SS2\", \n",
    "                                                                                                     \"SS52\", \n",
    "                                                                                                     \"CCMP1375\", \n",
    "                                                                                                     \"LG\",]))]\n",
    "\n"
   ]
  },
  {
   "cell_type": "code",
   "execution_count": null,
   "metadata": {},
   "outputs": [],
   "source": []
  },
  {
   "cell_type": "code",
   "execution_count": null,
   "metadata": {},
   "outputs": [],
   "source": []
  }
 ],
 "metadata": {
  "kernelspec": {
   "display_name": "Python 3",
   "language": "python",
   "name": "python3"
  },
  "language_info": {
   "codemirror_mode": {
    "name": "ipython",
    "version": 3
   },
   "file_extension": ".py",
   "mimetype": "text/x-python",
   "name": "python",
   "nbconvert_exporter": "python",
   "pygments_lexer": "ipython3",
   "version": "3.7.4"
  }
 },
 "nbformat": 4,
 "nbformat_minor": 4
}
