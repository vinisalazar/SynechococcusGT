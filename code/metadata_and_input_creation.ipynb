{
 "cells": [
  {
   "cell_type": "markdown",
   "metadata": {},
   "source": [
    "### Concatenating NCBI tables"
   ]
  },
  {
   "cell_type": "code",
   "execution_count": 45,
   "metadata": {},
   "outputs": [],
   "source": [
    "import pandas as pd\n",
    "from os import path\n",
    "from shutil import copy\n",
    "from glob import glob\n",
    "import abacat as ab\n",
    "pd.set_option('display.max_rows', 200)"
   ]
  },
  {
   "cell_type": "code",
   "execution_count": 46,
   "metadata": {},
   "outputs": [],
   "source": [
    "# Reading\n",
    "syn = pd.read_csv(\"../data/ncbi/synechoccus_ncbi_metadata_27-05_dedup.csv\")\n",
    "cya = pd.read_csv(\"../data/ncbi/cyanos_gtdb_ncbi_metadata_07-05_dedup.csv\")\n",
    "\n",
    "# Removing intersection of rows from cya\n",
    "cya = cya[~cya['assembly_accession'].isin(syn['assembly_accession'])]\n",
    "\n",
    "# Adding columns to identify data sets: Synechococcus or GTDB cyanobacteria\n",
    "syn['is_synecho'] = True\n",
    "cya['is_synecho'] = False\n",
    "\n",
    "# Concatenate, format and save\n",
    "df = pd.concat((syn, cya))\n",
    "df['local_fna'] = df['filename'].apply(\n",
    "    lambda s: f\"../data/ncbi/processing/genomic_fna/{s}_genomic.fna\")\n",
    "df.to_csv(\"../data/ncbi/concatenated_ncbi_table.csv\")\n",
    "\n",
    "# Add aditional columns\n",
    "df['proteins_path'] = (\"../data/ncbi/processing/prodigal_proteins/\" +\n",
    "                    df['filename'] + \"_genomic_prodigal_proteins.faa\")\n",
    "df['genes_path'] = (\"../data/ncbi/processing/prodigal_genes/\" +\n",
    "                       df['filename'] + \"_genomic_prodigal_genes.fna\")"
   ]
  },
  {
   "cell_type": "code",
   "execution_count": 47,
   "metadata": {},
   "outputs": [],
   "source": [
    "# We will remove GCA_003228185.1 due to being described as a mixed culture\n",
    "df = df[df['assembly_accession'] != 'GCA_003228185.1']"
   ]
  },
  {
   "cell_type": "code",
   "execution_count": 48,
   "metadata": {},
   "outputs": [],
   "source": [
    "# Create CheckM input batchfile\n",
    "copier = lambda x,y: [copy(i,y) for i in x]\n",
    "# copier(df[df[\"is_synecho\"]][\"local_fna\"], f\"../data/checkm/input/\")\n",
    "\n",
    "# Should try this:\n",
    "# map(lambda x,y: [copy(i,y) for i in x],\n",
    "#    (df[df[\"is_synecho\"]][\"local_fna\"], f\"../data/checkm/input/\"))"
   ]
  },
  {
   "cell_type": "code",
   "execution_count": 49,
   "metadata": {},
   "outputs": [],
   "source": [
    "# Join completeness and contamination\n",
    "\n",
    "# GTDB genomes\n",
    "gtdb_metadata = \"/home/vini/data/db/gtdb/bac120_metadata.tsv\"\n",
    "gtdb = pd.read_csv(gtdb_metadata, sep=\"\\t\")\n",
    "gtdb.rename(columns={\"ncbi_biosample\": \"biosample\"}, inplace=True)\n",
    "df = df.merge(gtdb[['biosample', 'checkm_completeness', 'checkm_contamination']],\n",
    "         on='biosample', how='left')\n",
    "\n",
    "# CheckM data\n",
    "checkm = pd.read_csv(\"../data/checkm/checkm_tax_wf.tsv\", sep=\"\\t\")\n",
    "checkm.rename(columns={\"Completeness\": \"checkm_completeness\",\n",
    "                       \"Contamination\": \"checkm_contamination\"}, inplace=True)\n",
    "checkm['filename'] = checkm[\"Bin Id\"].str.split(\"_genomic\", expand=True).iloc[:, 0]\n",
    "df = df.merge(checkm[['filename', 'checkm_completeness', 'checkm_contamination']],\n",
    "              on='filename', how='left')\n",
    "df['checkm_completeness'] = df['checkm_completeness_y'].fillna(\n",
    "    df['checkm_completeness_x'])\n",
    "df['checkm_contamination'] = df['checkm_contamination_y'].fillna(\n",
    "    df['checkm_contamination_x'])\n",
    "df = df.drop(['checkm_completeness_x', 'checkm_completeness_y',\n",
    "              'checkm_contamination_x', 'checkm_contamination_y'], axis=1)"
   ]
  },
  {
   "cell_type": "code",
   "execution_count": 50,
   "metadata": {},
   "outputs": [],
   "source": [
    "# Filter genomes with < 50% completeness and > 5% contamination\n",
    "df['quality_filter'] = df.apply(lambda row: True if\n",
    "         row['checkm_completeness'] > 50 and\n",
    "         row['checkm_contamination'] < 10 else\n",
    "        False, axis=1)\n",
    "\n",
    "# Create GTDB batchfile for Synechococcus genomes\n",
    "# df[df['is_synecho']][['local_fna', 'assembly_accession']].to_csv(\n",
    "#     '../data/gtdb/batchfile.tsv', sep='\\t', index=False, header=None)"
   ]
  },
  {
   "cell_type": "code",
   "execution_count": 51,
   "metadata": {},
   "outputs": [],
   "source": [
    "# Join GTDB taxonomy for GTDB cyanobacteria\n",
    "gtdb_tax = gtdb[\"gtdb_taxonomy\"].str.split(\";\", expand=True)\n",
    "gtdb_tax.columns = (\"gtdb_\" + i for i in \"domain phylum class order family genus species\".split())\n",
    "gtdb_tax = gtdb_tax.applymap(lambda s: s[3:] if s is not None else s)\n",
    "gtdb[gtdb_tax.columns] = gtdb_tax\n",
    "df = df.merge(gtdb[['biosample'] + list(gtdb_tax.columns)], on='biosample', how='left')\n",
    "\n",
    "# Join GTDB taxonomy for NCBI Synechococcus genomes\n",
    "synecho_gtdb = pd.read_csv(\"../data/gtdb/output/synechococcus.bac120.summary.tsv\", sep=\"\\t\")\n",
    "gtdb_tax = synecho_gtdb[\"classification\"].str.split(\";\", expand=True)\n",
    "gtdb_tax.columns = (\"gtdb_\" + i for i in \"domain phylum class order family genus species\".split())\n",
    "gtdb_tax = gtdb_tax.applymap(lambda s: s[3:] if isinstance(s, str) else s)\n",
    "synecho_gtdb[gtdb_tax.columns] = gtdb_tax\n",
    "\n",
    "df = df.merge(synecho_gtdb.rename(columns={\"user_genome\": \"assembly_accession\"}), on='assembly_accession', how='left')\n",
    "\n",
    "for i in gtdb_tax.columns:\n",
    "    df[i] = df[i + '_y'].fillna(df[i + '_x'])\n",
    "    df = df.drop([i + \"_x\", i + \"_y\"], axis=1)"
   ]
  },
  {
   "cell_type": "code",
   "execution_count": 52,
   "metadata": {},
   "outputs": [],
   "source": [
    "# Add Abacat to calculate GC and size\n",
    "df['abacat'] = df['local_fna'].apply(lambda s: ab.SequenceFile(s, 'contigs'))\n",
    "df['gc'] = df['abacat'].apply(lambda seq: seq.gc)\n",
    "df['megabases'] = df['abacat'].apply(lambda seq: seq.bps / 10e5)\n",
    "df = df[[i for i in df.columns if i != 'abacat']]\n",
    "df.to_csv(\"../data/metadata.csv\", index=False)"
   ]
  },
  {
   "cell_type": "markdown",
   "metadata": {},
   "source": [
    "### \"Checkpoint\""
   ]
  },
  {
   "cell_type": "code",
   "execution_count": 347,
   "metadata": {},
   "outputs": [],
   "source": [
    "# Add labels from existing file\n",
    "df = pd.read_csv(\"../data/metadata.csv\")\n",
    "df = df.iloc[:, :-1]\n",
    "labels = pd.read_csv(\"../data/misc/labels.tsv\", sep=\"\\t\")\n",
    "labels.columns = (\"filename\", \"label\")\n",
    "labels['filename'] = labels['filename'].str.split(\"_genomic\", expand=True).iloc[:, 0]\n",
    "df = df.merge(labels, on='filename', how='left')"
   ]
  },
  {
   "cell_type": "code",
   "execution_count": 338,
   "metadata": {},
   "outputs": [],
   "source": [
    "# for i in ('label',):\n",
    "#     df[i] = df[i + '_y'].fillna(df[i + '_x'])\n",
    "#     df = df.drop([i + \"_x\", i + \"_y\"], axis=1)\n",
    "    \n",
    "# df.loc[df[df['label'].str.contains(\"RSCC\")].index, \"is_synecho\"] = False"
   ]
  },
  {
   "cell_type": "code",
   "execution_count": 348,
   "metadata": {},
   "outputs": [],
   "source": [
    "# Fill missing labels with GTDB tax\n",
    "def join_gtdb_tax(row):     \n",
    "    return \"_\".join([f\"{i[5]}_\" + str(row[i]) for i in gtdb_tax.columns[2:]])\n",
    "\n",
    "df['label'] = df.apply(lambda row: join_gtdb_tax(row) if row['label'] != row['label'] else row['label'], axis=1)"
   ]
  },
  {
   "cell_type": "code",
   "execution_count": 349,
   "metadata": {},
   "outputs": [],
   "source": [
    "# Format columns\n",
    "def fill_rank(row, rank='genus'):\n",
    "    ranks = {\n",
    "        \"genus\": 0,\n",
    "        \"species\": 1,\n",
    "        \"strain\": 2\n",
    "    }\n",
    "    label = \"\"\n",
    "    if row['is_synecho']:\n",
    "        if ranks[rank] < 2:\n",
    "            label = str(row['label'].split(\"_\")[ranks[rank]])\n",
    "        else:\n",
    "            label = \"_\".join(row['label'].split(\"_\")[2:])\n",
    "        if len(label) > 1:\n",
    "            pass\n",
    "        else:\n",
    "            if ranks[rank] < 2:\n",
    "                label = str(row[f'gtdb_{rank}'])\n",
    "            else:\n",
    "                label = str(row['infraspecific_name'])\n",
    "    else:\n",
    "        if ranks[rank] == 2:\n",
    "            label = str(row['infraspecific_name'])\n",
    "        else:\n",
    "            label = str(row[f'gtdb_{rank}'])\n",
    "    return label\n",
    "\n",
    "df['new_genus'] = df.apply(lambda row: fill_rank(row, rank='genus'), axis=1)\n",
    "df['new_species'] = df.apply(lambda row: fill_rank(row, rank='species'), axis=1)\n",
    "df['new_strain'] = df.apply(lambda row: fill_rank(row, rank='strain'), axis=1)"
   ]
  },
  {
   "cell_type": "code",
   "execution_count": 350,
   "metadata": {},
   "outputs": [],
   "source": [
    "missing_labels = pd.read_csv(\"../data/misc/missing_labels.csv\")\n",
    "\n",
    "df = df.merge(missing_labels, on='assembly_accession', how='left')\n",
    "for i in missing_labels.columns[1:]:\n",
    "    df[i] = df[i + '_y'].fillna(df[i + '_x'])\n",
    "    df = df.drop([i + \"_x\", i + \"_y\"], axis=1)"
   ]
  },
  {
   "cell_type": "code",
   "execution_count": 351,
   "metadata": {},
   "outputs": [],
   "source": [
    "# Final edits\n",
    "\n",
    "# Drop duplicates and other classes\n",
    "df = df.query(\"gtdb_class == 'Cyanobacteriia'\")\n",
    "df = df.drop_duplicates(\"assembly_accession\")\n",
    "\n",
    "df['new_genus'] = df['new_genus'].str.replace('Enugrolinea', 'Limnothrix')\n",
    "df['new_genus'] = df['new_genus'].str.replace('Synechococcus-C', 'Synechococcus_C')\n",
    "\n",
    "# Manual edit to Vulcanococcus limneticus\n",
    "ix = df[df['organism_name'].str.contains(\"limneticus\")].index\n",
    "df.loc[ix, 'new_species'] = 'limneticus'\n",
    "df.loc[ix, 'new_strain']  = 'LL'\n",
    "df.loc[ix, 'label'] = df.loc[ix, 'organism_name']\n",
    "\n",
    "# And to nan labels:\n",
    "df['label'] = df.apply(lambda row: row['organism_name'] if 'nan' in row['label'] else row['label'], axis=1)\n",
    "df['label'] = df['label'].str.replace(\"Magnicoccus\", \"Vulcanococcus\")\n",
    "df['new_genus'] = df['new_genus'].str.replace(\"Magnicoccus\", \"Vulcanococcus\")"
   ]
  },
  {
   "cell_type": "code",
   "execution_count": 343,
   "metadata": {},
   "outputs": [],
   "source": [
    "# Export\n",
    "df.to_csv(\"../data/metadata.csv\", index=False)"
   ]
  },
  {
   "cell_type": "code",
   "execution_count": 344,
   "metadata": {},
   "outputs": [],
   "source": [
    "# Create AAI input for Synechococcus - Add Cyanobium and Limnothrix here\n",
    "dst = \"../data/aai/synechococcus_input/\"\n",
    "#df[(df['is_synecho'])]['proteins_path'].apply(lambda file: copy(file, dst))"
   ]
  },
  {
   "cell_type": "code",
   "execution_count": 345,
   "metadata": {},
   "outputs": [],
   "source": [
    "# Creating GTT input\n",
    "df = df[df['quality_filter']].drop_duplicates(\"label\")\n",
    "df['protein_filename'] = df['proteins_path'].apply(lambda s: path.basename(s))\n",
    "df['proteins_path'] = df['proteins_path'].str.replace(\"../data\", \"../\")\n",
    "df['gtt_label'] = df['label'] + \" # \" + df['assembly_accession']\n",
    "\n",
    "remove_from_gtt = [\"PCC-7407\", \"Gloeomargarita\", \"kilaueensis\", \"CACIAM-69\", \"RSCC\"]\n",
    "df = df[~df.index.isin(df[df['label'].apply(lambda s: any(i for i in remove_from_gtt if i in s))].index)]\n",
    "\n",
    "# Exporting\n",
    "df['proteins_path'].to_csv(\"../data/gtt/1072_input.txt\", index=False, header=False)\n",
    "df[['protein_filename', 'gtt_label']].to_csv(\"../data/gtt/1072_labels.tsv\", sep=\"\\t\", index=False, header=False)"
   ]
  },
  {
   "cell_type": "code",
   "execution_count": 346,
   "metadata": {},
   "outputs": [
    {
     "data": {
      "text/plain": [
       "(1072, 64)"
      ]
     },
     "execution_count": 346,
     "metadata": {},
     "output_type": "execute_result"
    }
   ],
   "source": [
    "df.shape"
   ]
  },
  {
   "cell_type": "code",
   "execution_count": null,
   "metadata": {},
   "outputs": [],
   "source": []
  }
 ],
 "metadata": {
  "kernelspec": {
   "display_name": "Python 3",
   "language": "python",
   "name": "python3"
  },
  "language_info": {
   "codemirror_mode": {
    "name": "ipython",
    "version": 3
   },
   "file_extension": ".py",
   "mimetype": "text/x-python",
   "name": "python",
   "nbconvert_exporter": "python",
   "pygments_lexer": "ipython3",
   "version": "3.7.4"
  }
 },
 "nbformat": 4,
 "nbformat_minor": 4
}
