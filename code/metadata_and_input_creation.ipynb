{
 "cells": [
  {
   "cell_type": "markdown",
   "metadata": {},
   "source": [
    "### Concatenating NCBI tables"
   ]
  },
  {
   "cell_type": "code",
   "execution_count": 1,
   "metadata": {},
   "outputs": [],
   "source": [
    "import pandas as pd\n",
    "from os import path, symlink\n",
    "from shutil import copy\n",
    "from glob import glob"
   ]
  },
  {
   "cell_type": "code",
   "execution_count": 2,
   "metadata": {},
   "outputs": [],
   "source": [
    "# Reading\n",
    "syn = pd.read_csv(\"../data/ncbi/synechoccus_ncbi_metadata_27-05_dedup.csv\")\n",
    "cya = pd.read_csv(\"../data/ncbi/cyanos_gtdb_ncbi_metadata_07-05_dedup.csv\")\n",
    "\n",
    "# Removing intersection of rows from cya\n",
    "cya = cya[~cya['assembly_accession'].isin(syn['assembly_accession'])]\n",
    "\n",
    "# Adding columns to identify data sets: Synechococcus or GTDB cyanobacteria\n",
    "syn['is_synecho'] = True\n",
    "cya['is_synecho'] = False\n",
    "\n",
    "# Concatenate, format and save\n",
    "df = pd.concat((syn, cya))\n",
    "df['local_fna'] = df['filename'].apply(\n",
    "    lambda s: f\"../data/ncbi/processing/genomic_fna/{s}_genomic.fna\")\n",
    "#df.to_csv(\"../data/ncbi/concatenated_ncbi_table.csv\")\n",
    "\n",
    "# Add aditional columns\n",
    "df['proteins_path'] = (\"../data/ncbi/processing/prodigal_proteins/\" +\n",
    "                    df['filename'] + \"_genomic_prodigal_proteins.faa\")\n",
    "df['genes_path'] = (\"../data/ncbi/processing/prodigal_genes/\" +\n",
    "                       df['filename'] + \"_genomic_prodigal_genes.fna\")"
   ]
  },
  {
   "cell_type": "code",
   "execution_count": 3,
   "metadata": {},
   "outputs": [],
   "source": [
    "# We will remove GCA_003228185.1 due to being described as a mixed culture\n",
    "df = df[df['assembly_accession'] != 'GCA_003228185.1']"
   ]
  },
  {
   "cell_type": "code",
   "execution_count": 4,
   "metadata": {},
   "outputs": [],
   "source": [
    "# Create CheckM input batchfile\n",
    "copier = lambda x,y: [copy(i,y) for i in x]\n",
    "# copier(df[df[\"is_synecho\"]][\"local_fna\"], f\"../data/checkm/input/\")\n",
    "\n",
    "# Should try this:\n",
    "# map(lambda x,y: [copy(i,y) for i in x],\n",
    "#    (df[df[\"is_synecho\"]][\"local_fna\"], f\"../data/checkm/input/\"))"
   ]
  },
  {
   "cell_type": "code",
   "execution_count": 5,
   "metadata": {},
   "outputs": [],
   "source": [
    "# Join completeness and contamination\n",
    "\n",
    "# GTDB genomes\n",
    "gtdb_metadata = \"/home/vini/data/db/gtdb/bac120_metadata.tsv\"\n",
    "gtdb = pd.read_csv(gtdb_metadata, sep=\"\\t\")\n",
    "gtdb.rename(columns={\"ncbi_biosample\": \"biosample\"}, inplace=True)\n",
    "df = df.merge(gtdb[['biosample', 'checkm_completeness', 'checkm_contamination']],\n",
    "         on='biosample', how='left')\n",
    "\n",
    "# CheckM data\n",
    "checkm = pd.read_csv(\"../data/checkm/checkm_tax_wf.tsv\", sep=\"\\t\")\n",
    "checkm.rename(columns={\"Completeness\": \"checkm_completeness\",\n",
    "                       \"Contamination\": \"checkm_contamination\"}, inplace=True)\n",
    "checkm['filename'] = checkm[\"Bin Id\"].str.split(\"_genomic\", expand=True).iloc[:, 0]\n",
    "df = df.merge(checkm[['filename', 'checkm_completeness', 'checkm_contamination']],\n",
    "              on='filename', how='left')\n",
    "df['checkm_completeness'] = df['checkm_completeness_y'].fillna(\n",
    "    df['checkm_completeness_x'])\n",
    "df['checkm_contamination'] = df['checkm_contamination_y'].fillna(\n",
    "    df['checkm_contamination_x'])\n",
    "df = df.drop(['checkm_completeness_x', 'checkm_completeness_y',\n",
    "              'checkm_contamination_x', 'checkm_contamination_y'], axis=1)"
   ]
  },
  {
   "cell_type": "code",
   "execution_count": 6,
   "metadata": {},
   "outputs": [],
   "source": [
    "# Filter genomes with < 50% completeness and > 5% contamination\n",
    "df['quality_filter'] = df.apply(lambda row: True if\n",
    "         row['checkm_completeness'] > 50 and\n",
    "         row['checkm_contamination'] < 5 else\n",
    "        False, axis=1)\n",
    "\n",
    "# Create GTDB batchfile for Synechococcus genomes\n",
    "df[df['is_synecho']][['local_fna', 'assembly_accession']].to_csv(\n",
    "    '../data/gtdb/batchfile.tsv', sep='\\t', index=False, header=None)"
   ]
  },
  {
   "cell_type": "code",
   "execution_count": null,
   "metadata": {},
   "outputs": [],
   "source": [
    "# Join GTDB taxonomy for GTDB cyanobacteria\n",
    "gtdb_tax = gtdb[\"gtdb_taxonomy\"].str.split(\";\", expand=True)\n",
    "gtdb_tax.columns = (\"gtdb_\" + i for i in \"domain phylum class order family genus species\".split())\n",
    "gtdb_tax = gtdb_tax.applymap(lambda s: s[3:] if s is not None else s)\n",
    "gtdb[gtdb_tax.columns] = gtdb_tax\n",
    "df = df.merge(gtdb[['biosample'] + list(gtdb_tax.columns)], on='biosample', how='left')\n",
    "\n",
    "# Join GTDB taxonomy for NCBI Synechococcus genomes"
   ]
  },
  {
   "cell_type": "code",
   "execution_count": null,
   "metadata": {},
   "outputs": [],
   "source": [
    "synecho_gtdb = pd.read_csv(\"../data/gtdb/output/synechococcus.bac120.summary.tsv\", sep=\"\\t\")\n",
    "synecho_gtdb['classification'].iloc[120]"
   ]
  },
  {
   "cell_type": "markdown",
   "metadata": {},
   "source": [
    "### Adding genes and protein filepaths"
   ]
  },
  {
   "cell_type": "code",
   "execution_count": null,
   "metadata": {},
   "outputs": [],
   "source": []
  },
  {
   "cell_type": "code",
   "execution_count": null,
   "metadata": {},
   "outputs": [],
   "source": []
  }
 ],
 "metadata": {
  "kernelspec": {
   "display_name": "Python 3",
   "language": "python",
   "name": "python3"
  },
  "language_info": {
   "codemirror_mode": {
    "name": "ipython",
    "version": 3
   },
   "file_extension": ".py",
   "mimetype": "text/x-python",
   "name": "python",
   "nbconvert_exporter": "python",
   "pygments_lexer": "ipython3",
   "version": "3.7.4"
  }
 },
 "nbformat": 4,
 "nbformat_minor": 2
}
