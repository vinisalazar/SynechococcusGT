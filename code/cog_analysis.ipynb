{
 "cells": [
  {
   "cell_type": "code",
   "execution_count": 1,
   "metadata": {},
   "outputs": [],
   "source": [
    "import pandas as pd\n",
    "from Bio import SeqIO\n",
    "from os import path, system\n",
    "from COG import COGTranslator"
   ]
  },
  {
   "cell_type": "code",
   "execution_count": 5,
   "metadata": {},
   "outputs": [],
   "source": [
    "df = pd.read_csv(\"../data/metadata.csv\")\n",
    "df = df[df['is_synecho'] & df['quality_filter']]\n",
    "cog_out_dir = \"../data/ncbi/processing/synecho_cog/\"\n",
    "df['dmnd_out'] = df['proteins_path'].apply(lambda s: path.join(cog_out_dir,\n",
    "                                                               path.basename(s).split(\"_genomic\")[0] +\n",
    "                                                               \"_dmnd_out.tsv\"))\n",
    "df['cog_fasta'] = df['proteins_path'].apply(lambda s: path.join(cog_out_dir,\n",
    "                                                               path.basename(s).split(\"_genomic\")[0] +\n",
    "                                                               \"_cog_annotaton.faa\"))"
   ]
  },
  {
   "cell_type": "code",
   "execution_count": 12,
   "metadata": {},
   "outputs": [
    {
     "name": "stdout",
     "output_type": "stream",
     "text": [
      "Loaded 4631 COG names into memory.\n"
     ]
    }
   ],
   "source": [
    "cog_path = \"/home/vini/data/db/COG/prot2003-2014.fa.dmnd\"\n",
    "cog_ids = pd.read_csv(\"/home/vini/data/db/COG/cog2003-2014.csv\")\n",
    "cog_ids = cog_ids.iloc[:, :-1]\n",
    "cog_ids.columns = \"domain_id genome_name protein_id protein_length\\\n",
    "                   domain_start domain_end COG_id membership_class\".split()\n",
    "cog_ids = cog_ids.drop_duplicates(\"domain_id\")\n",
    "cogt = COGTranslator()\n",
    "\n",
    "def run_diamond(query, db, output, outfmt=6, threads=8, max_target=0):\n",
    "    command = f\"diamond blastp -q {query} --db {db} -o {output} --outfmt {outfmt} -p {threads}\"\n",
    "    if max_target:\n",
    "        command += f\" -k {str(max_target)}\"\n",
    "    \n",
    "    query_ = path.basename(query)\n",
    "    print(f\"Running Diamond for {query_} with {str(threads)} threads\")\n",
    "    system(command)\n",
    "    \n",
    "    if path.isfile(output):\n",
    "        print(f\"Success. Finished diamond for {query}.\\nOutput file is {output}\")\n",
    "        return 0\n",
    "    else:\n",
    "        return \"Failed. Did not create output file.\"\n",
    "\n",
    "\n",
    "def parse_seqid(seqid, kind='name'):\n",
    "    seqid = int(seqid.split(\"|\")[1])\n",
    "    query = cog_ids.query(f\"domain_id == {seqid}\")\n",
    "    if len(query) >= 1:\n",
    "        cog_code = cog_ids.query(f\"domain_id == {seqid}\").iloc[0]['COG_id']\n",
    "        name = cogt.name_from_code(cog_code)\n",
    "        letter = cogt.letter_from_code(cog_code)\n",
    "        output = {\n",
    "            'name': name,\n",
    "            'code': cog_code,\n",
    "            'category': letter\n",
    "        }\n",
    "        return output[kind]\n",
    "    else:\n",
    "        return 0\n",
    "\n",
    "\n",
    "def description_parser(description, code, category, annotation):\n",
    "    split = description.split(\" # \")\n",
    "    id_ = split[0]\n",
    "    gc_cont = split[-1].split(\";\")[-1]\n",
    "    category = \"\".join([i[0] for i in category])\n",
    "    output = \" # \".join([id_, code, category, annotation, gc_cont])\n",
    "    return output\n",
    "\n",
    "\n",
    "def process_row(row):\n",
    "    # Process Diamond output\n",
    "    dmnd = pd.read_csv(row['dmnd_out'], sep=\"\\t\")\n",
    "    dmnd.columns = 'qseqid sseqid pident length mismatch gapopen qstart qend sstart send evalue bitscore'.split()\n",
    "    dmnd.set_index(\"qseqid\", inplace=True)\n",
    "    dmnd['annotation'] = dmnd['sseqid'].apply(lambda s: parse_seqid(s))\n",
    "    dmnd['code'] = dmnd['sseqid'].apply(lambda s: parse_seqid(s, kind='code'))\n",
    "    dmnd['category'] = dmnd['sseqid'].apply(lambda s: parse_seqid(s, kind='category'))\n",
    "    \n",
    "    fasta = SeqIO.to_dict(SeqIO.parse(row['proteins_path'], 'fasta'))\n",
    "    for ix, row_ in dmnd.iterrows():\n",
    "        description = fasta[ix].description\n",
    "        code = row_['code']\n",
    "        category = row_['category']\n",
    "        annotation = row_['annotation']\n",
    "        if code != 0:\n",
    "            fasta[ix].description = description_parser(description, code, category, annotation)\n",
    "      \n",
    "    with open(row['cog_fasta'], 'w') as f:\n",
    "        SeqIO.write([i for i in fasta.values()], f, 'fasta')\n",
    "        \n",
    "    print(f\"Finished for {row['sample-id']}.\")"
   ]
  },
  {
   "cell_type": "code",
   "execution_count": null,
   "metadata": {},
   "outputs": [
    {
     "name": "stdout",
     "output_type": "stream",
     "text": [
      "Running Diamond for GCA_009919765.1_ASM991976v1_genomic_prodigal_proteins.faa with 8 threads\n",
      "Success. Finished diamond for ../data/ncbi/processing/prodigal_proteins/GCA_009919765.1_ASM991976v1_genomic_prodigal_proteins.faa.\n",
      "Output file is ../data/ncbi/processing/synecho_cog/GCA_009919765.1_ASM991976v1_dmnd_out.tsv\n",
      "Running Diamond for GCA_011047875.1_ASM1104787v1_genomic_prodigal_proteins.faa with 8 threads\n",
      "Success. Finished diamond for ../data/ncbi/processing/prodigal_proteins/GCA_011047875.1_ASM1104787v1_genomic_prodigal_proteins.faa.\n",
      "Output file is ../data/ncbi/processing/synecho_cog/GCA_011047875.1_ASM1104787v1_dmnd_out.tsv\n",
      "Running Diamond for GCA_011055065.1_ASM1105506v1_genomic_prodigal_proteins.faa with 8 threads\n",
      "Success. Finished diamond for ../data/ncbi/processing/prodigal_proteins/GCA_011055065.1_ASM1105506v1_genomic_prodigal_proteins.faa.\n",
      "Output file is ../data/ncbi/processing/synecho_cog/GCA_011055065.1_ASM1105506v1_dmnd_out.tsv\n",
      "Running Diamond for GCA_012269695.1_ASM1226969v1_genomic_prodigal_proteins.faa with 8 threads\n",
      "Success. Finished diamond for ../data/ncbi/processing/prodigal_proteins/GCA_012269695.1_ASM1226969v1_genomic_prodigal_proteins.faa.\n",
      "Output file is ../data/ncbi/processing/synecho_cog/GCA_012269695.1_ASM1226969v1_dmnd_out.tsv\n",
      "Running Diamond for GCA_012270465.1_ASM1227046v1_genomic_prodigal_proteins.faa with 8 threads\n",
      "Success. Finished diamond for ../data/ncbi/processing/prodigal_proteins/GCA_012270465.1_ASM1227046v1_genomic_prodigal_proteins.faa.\n",
      "Output file is ../data/ncbi/processing/synecho_cog/GCA_012270465.1_ASM1227046v1_dmnd_out.tsv\n",
      "Running Diamond for GCA_001182765.1_WH8103.1_genomic_prodigal_proteins.faa with 8 threads\n"
     ]
    }
   ],
   "source": [
    "df.apply(lambda row: run_diamond(query=row['proteins_path'], db=cog_path, output=row['dmnd_out'], max_target=1), axis=1)"
   ]
  },
  {
   "cell_type": "code",
   "execution_count": null,
   "metadata": {},
   "outputs": [],
   "source": [
    "df.apply(lambda row: process_row(row) if not path.isfile(row['cog_fasta']) else f\"Done for {row['cog_fasta']}\", axis=1)"
   ]
  }
 ],
 "metadata": {
  "kernelspec": {
   "display_name": "Python 3",
   "language": "python",
   "name": "python3"
  },
  "language_info": {
   "codemirror_mode": {
    "name": "ipython",
    "version": 3
   },
   "file_extension": ".py",
   "mimetype": "text/x-python",
   "name": "python",
   "nbconvert_exporter": "python",
   "pygments_lexer": "ipython3",
   "version": "3.7.4"
  }
 },
 "nbformat": 4,
 "nbformat_minor": 4
}
